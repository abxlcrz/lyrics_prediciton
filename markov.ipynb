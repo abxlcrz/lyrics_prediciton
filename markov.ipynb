{
 "cells": [
  {
   "cell_type": "code",
   "execution_count": 31,
   "metadata": {},
   "outputs": [],
   "source": [
    "import pandas as pd\n",
    "import random"
   ]
  },
  {
   "cell_type": "markdown",
   "metadata": {},
   "source": [
    "# Spinetta!"
   ]
  },
  {
   "cell_type": "code",
   "execution_count": 2,
   "metadata": {},
   "outputs": [
    {
     "data": {
      "text/html": [
       "<div>\n",
       "<style>\n",
       "    .dataframe thead tr:only-child th {\n",
       "        text-align: right;\n",
       "    }\n",
       "\n",
       "    .dataframe thead th {\n",
       "        text-align: left;\n",
       "    }\n",
       "\n",
       "    .dataframe tbody tr th {\n",
       "        vertical-align: top;\n",
       "    }\n",
       "</style>\n",
       "<table border=\"1\" class=\"dataframe\">\n",
       "  <thead>\n",
       "    <tr style=\"text-align: right;\">\n",
       "      <th></th>\n",
       "      <th>disc_number</th>\n",
       "      <th>duration_ms</th>\n",
       "      <th>name</th>\n",
       "      <th>track_number</th>\n",
       "      <th>album</th>\n",
       "      <th>artist</th>\n",
       "      <th>author</th>\n",
       "      <th>lyrics_url</th>\n",
       "      <th>lyrics</th>\n",
       "    </tr>\n",
       "  </thead>\n",
       "  <tbody>\n",
       "    <tr>\n",
       "      <th>222</th>\n",
       "      <td>1</td>\n",
       "      <td>205986</td>\n",
       "      <td>Yo Miro Tu Amor</td>\n",
       "      <td>4</td>\n",
       "      <td>Para Los Arboles</td>\n",
       "      <td>Luis Alberto Spinetta</td>\n",
       "      <td>Luis Alberto Spinetta</td>\n",
       "      <td>https://genius.com/Luis-alberto-spinetta-yo-mi...</td>\n",
       "      <td>En tanto que la lluvia... ( así ) Lava, mis ...</td>\n",
       "    </tr>\n",
       "    <tr>\n",
       "      <th>37</th>\n",
       "      <td>1</td>\n",
       "      <td>89773</td>\n",
       "      <td>Jingle</td>\n",
       "      <td>19</td>\n",
       "      <td>El 1er Álbum Más los Singles</td>\n",
       "      <td>Almendra</td>\n",
       "      <td>Luis Alberto Spinetta</td>\n",
       "      <td>https://genius.com/Almendra-jingle-lyrics</td>\n",
       "      <td>Vuelve del cuento feroz Su sombra está por s...</td>\n",
       "    </tr>\n",
       "    <tr>\n",
       "      <th>215</th>\n",
       "      <td>1</td>\n",
       "      <td>356500</td>\n",
       "      <td>Atado A Tu Frontera</td>\n",
       "      <td>9</td>\n",
       "      <td>Pan</td>\n",
       "      <td>Luis Alberto Spinetta</td>\n",
       "      <td>Luis Alberto Spinetta</td>\n",
       "      <td>https://genius.com/Luis-alberto-spinetta-atado...</td>\n",
       "      <td>En la inconsolable noche tu voz Aullando me ...</td>\n",
       "    </tr>\n",
       "    <tr>\n",
       "      <th>307</th>\n",
       "      <td>1</td>\n",
       "      <td>242750</td>\n",
       "      <td>Yo Quiero Ver Un Tren</td>\n",
       "      <td>2</td>\n",
       "      <td>Mondo Di Cromo</td>\n",
       "      <td>Luis Alberto Spinetta</td>\n",
       "      <td>Luis Alberto Spinetta</td>\n",
       "      <td>https://genius.com/Luis-alberto-spinetta-yo-qu...</td>\n",
       "      <td>Yo nunca me imaginé regresar a mi tiempo de ...</td>\n",
       "    </tr>\n",
       "    <tr>\n",
       "      <th>106</th>\n",
       "      <td>1</td>\n",
       "      <td>165893</td>\n",
       "      <td>Siguiendo Los Pasos Del Maestro</td>\n",
       "      <td>5</td>\n",
       "      <td>Los Niños Que Escriben En El Cielo</td>\n",
       "      <td>Spinetta Jade</td>\n",
       "      <td>Luis Alberto Spinetta</td>\n",
       "      <td>https://genius.com/Spinetta-jade-siguiendo-los...</td>\n",
       "      <td>-</td>\n",
       "    </tr>\n",
       "  </tbody>\n",
       "</table>\n",
       "</div>"
      ],
      "text/plain": [
       "     disc_number  duration_ms                             name  track_number  \\\n",
       "222            1       205986                  Yo Miro Tu Amor             4   \n",
       "37             1        89773                           Jingle            19   \n",
       "215            1       356500              Atado A Tu Frontera             9   \n",
       "307            1       242750            Yo Quiero Ver Un Tren             2   \n",
       "106            1       165893  Siguiendo Los Pasos Del Maestro             5   \n",
       "\n",
       "                                  album                 artist  \\\n",
       "222                    Para Los Arboles  Luis Alberto Spinetta   \n",
       "37         El 1er Álbum Más los Singles               Almendra   \n",
       "215                                 Pan  Luis Alberto Spinetta   \n",
       "307                      Mondo Di Cromo  Luis Alberto Spinetta   \n",
       "106  Los Niños Que Escriben En El Cielo          Spinetta Jade   \n",
       "\n",
       "                    author                                         lyrics_url  \\\n",
       "222  Luis Alberto Spinetta  https://genius.com/Luis-alberto-spinetta-yo-mi...   \n",
       "37   Luis Alberto Spinetta          https://genius.com/Almendra-jingle-lyrics   \n",
       "215  Luis Alberto Spinetta  https://genius.com/Luis-alberto-spinetta-atado...   \n",
       "307  Luis Alberto Spinetta  https://genius.com/Luis-alberto-spinetta-yo-qu...   \n",
       "106  Luis Alberto Spinetta  https://genius.com/Spinetta-jade-siguiendo-los...   \n",
       "\n",
       "                                                lyrics  \n",
       "222    En tanto que la lluvia... ( así ) Lava, mis ...  \n",
       "37     Vuelve del cuento feroz Su sombra está por s...  \n",
       "215    En la inconsolable noche tu voz Aullando me ...  \n",
       "307    Yo nunca me imaginé regresar a mi tiempo de ...  \n",
       "106                                                  -  "
      ]
     },
     "execution_count": 2,
     "metadata": {},
     "output_type": "execute_result"
    }
   ],
   "source": [
    "df = pd.read_csv('data/complete_spinetta.csv', sep=';')\n",
    "df.sample(5)"
   ]
  },
  {
   "cell_type": "markdown",
   "metadata": {},
   "source": [
    "## MARKOV"
   ]
  },
  {
   "cell_type": "markdown",
   "metadata": {},
   "source": [
    "__Get list of all lyrics of non instrumental songs__"
   ]
  },
  {
   "cell_type": "code",
   "execution_count": 3,
   "metadata": {},
   "outputs": [],
   "source": [
    "lyrics = df[df['lyrics'] != '-'].lyrics.values"
   ]
  },
  {
   "cell_type": "code",
   "execution_count": 4,
   "metadata": {},
   "outputs": [],
   "source": [
    "def train_markov_chain(lyrics):\n",
    "    \"\"\"\n",
    "    Args:\n",
    "      - lyrics: a list of strings, where each string represents\n",
    "                the lyrics of one song by an artist.\n",
    "    Returns:\n",
    "      A dict that maps a tuple of 2 words (\"bigram\") to a list of\n",
    "      words that follow that bigram, representing the Markov\n",
    "      chain trained on the lyrics.\n",
    "    \"\"\"\n",
    "\n",
    "    # Initialize the beginning of our chain.\n",
    "    chain = {\n",
    "        (None, \"<START>\"): []\n",
    "    }\n",
    "\n",
    "    for lyric in lyrics:\n",
    "        # Replace newline characters with our tag.\n",
    "        lyric_newlines = lyric.replace('\\n', ' <N> ')\n",
    "        # Create a tuple representing the most recent (current) bigram.\n",
    "        last_2 = (None, \"<START>\")\n",
    "        for word in lyric_newlines.split():\n",
    "            # Add the word as one that follows the current bigram.\n",
    "            chain[last_2].append(word)\n",
    "            # Shift the current bigram to account for the newly added word.\n",
    "            last_2 = (last_2[1], word)\n",
    "            if last_2 not in chain:\n",
    "                chain[last_2] = []\n",
    "        chain[last_2].append(\"<END>\")\n",
    "\n",
    "    return chain"
   ]
  },
  {
   "cell_type": "code",
   "execution_count": 5,
   "metadata": {},
   "outputs": [],
   "source": [
    "# Train a Markov Chain over all of Logic's lyrics.\n",
    "chain = train_markov_chain(lyrics)"
   ]
  },
  {
   "cell_type": "code",
   "execution_count": 6,
   "metadata": {},
   "outputs": [],
   "source": [
    "def generate_new_lyrics(chain):\n",
    "    \"\"\"\n",
    "    Args:\n",
    "      - chain: a dict representing the Markov chain,\n",
    "               such as one generated by generate_new_lyrics()\n",
    "    Returns:\n",
    "      A string representing the randomly generated song.\n",
    "    \"\"\"\n",
    "\n",
    "    # a list for storing the generated words\n",
    "    words = []\n",
    "    # generate the first word\n",
    "    word = random.choice(chain[(None, \"<START>\")])\n",
    "    words.append(word)\n",
    "\n",
    "    # Begin with the first bigram in our chain.\n",
    "    last_2 = (None, \"<START>\")\n",
    "    while words[-1] != \"<END>\":\n",
    "        # Generate the next word.\n",
    "        word = random.choice(chain[last_2])\n",
    "        words.append(word)\n",
    "        # Shift the current bigram to account for the newly added word.\n",
    "        last_2 = (last_2[1], words[-1])\n",
    "\n",
    "    # Join the words together into a string with line breaks.\n",
    "    lyrics = \" \".join(words[:-1])\n",
    "    return \"\\n\".join(lyrics.split(\"<N>\"))"
   ]
  },
  {
   "cell_type": "code",
   "execution_count": 13,
   "metadata": {},
   "outputs": [
    {
     "name": "stdout",
     "output_type": "stream",
     "text": [
      "Yo Entre las miserias Y el concierto del aire \n",
      " Y dejé mis zapatos para un niño nace \n",
      " las nubes vendrán.... Trayendo mensajes... En el nadie de la city \n",
      " y como un canto \n",
      " canta porque es vida \n",
      " al quebrar un llanto Luna y espera de serrazón Pronto esto cambiará Es un espejo de cristal\n"
     ]
    }
   ],
   "source": [
    "print(generate_new_lyrics(chain))"
   ]
  },
  {
   "cell_type": "code",
   "execution_count": 14,
   "metadata": {},
   "outputs": [
    {
     "name": "stdout",
     "output_type": "stream",
     "text": [
      "Gigante ¡Oh!, ¿quien te puede ver? \n",
      " cuando la luna en diamantes... Es un milagro te haría salir Del barro no volverá Adentro queda un cuerpo Entre tus lágrimas Y el durazno partido Ya sangrando está bajo el sol a sol \n",
      " sobre todo niños \n",
      " si alguna vez desde mis pies Bailando porque soy mestizo Voy al norte de nada Donde sopla el viento te arrebatará... Esa hoja escrita Con tu molinete Que los amos No descansan... Ya no me digas que se inyectan ciudades ¿y qué? ¿acaso no marchitan los navíos y las rosas en los jardines nena Esta es mi feroz canción Para dormir en el cosmos Ahí va el Capitán Beto por el mal Se ríe el niño Y así yo en la canción así Una esquina desigual y un rayo al amanecer. \n",
      " \n",
      " Tengo fiebre \n",
      " cincuenta y pico \n",
      " tengo un vientre blanco Dale tibia leche de tu alma Para impulsar a este mágico Y misterioso mundo Ah !, luego en el más allá Ludmila Ludmila yo veo Tus dedos de mimbre Quiero saber porque lloran... Ti, ti, ti, ti, ti, ti, ti\n"
     ]
    }
   ],
   "source": [
    "print(generate_new_lyrics(chain))"
   ]
  },
  {
   "cell_type": "code",
   "execution_count": 16,
   "metadata": {},
   "outputs": [
    {
     "name": "stdout",
     "output_type": "stream",
     "text": [
      "Me Caído de un vuelo limpio Entre túneles de luz Y esta vez no aceptes que otro amor vendrá. \n",
      " \n",
      " Un sueño de alguien que se da... Solo refleja en edificios mudos... Contra el muro Al que no duermen No hay amigos, solo una Todo el mundo es extravío, \n",
      " en sí La fuerza del fuego La voz de Cris me llega igual Y veo la cara de aquella canción sin fin Y además Dale gracias por estar cerca de ti Todo se ha movido con oscuridad Todo este tiempo Ya sé, ya no existe aquí Un congelado amanecer Tiñe de blanco hasta mi Vamos a mi! A mi! Si las flores que esperan... Condición de fulgor en algún planeta, en algún lugar \n",
      " con las manos ante Bosnia Algo se está cayendo Es ese cielo Te voy a estar En este cementerio Qué calor hará sin vos En mi nunca la luz del amanecer... ¡Oh mi amor Esta vez solo quiero una sola cosa Dame tu luz Veo así a través de un grito De inocencia... ¿es que nunca calla Solo se ve se ama se pierde en el mar, el mar \n",
      " Algo se acumula en mí Y la distancia no me mires dicta tu soledad Dices que me abras los ojos y toma el taxi!!! \n",
      " HUUH!! Yeah!!! \n",
      " Lulu Toma el tren hacia el mar descansará... ¿Habrá crecido un tallo en el ocaso Y asi tus manos en el sol Solo quiero que tu amor es una canción \n",
      " sin saber porque.\n"
     ]
    }
   ],
   "source": [
    "print(generate_new_lyrics(chain))"
   ]
  },
  {
   "cell_type": "code",
   "execution_count": 23,
   "metadata": {},
   "outputs": [
    {
     "name": "stdout",
     "output_type": "stream",
     "text": [
      "Instant-táneas Nena, tu cabeza va a estallar Ondas en aire Ondas en aire Un columpio fabuloso en el rebaño del pastor...\n"
     ]
    }
   ],
   "source": [
    "print(generate_new_lyrics(chain))"
   ]
  },
  {
   "cell_type": "code",
   "execution_count": 24,
   "metadata": {},
   "outputs": [
    {
     "name": "stdout",
     "output_type": "stream",
     "text": [
      "Márcame, El mandarín Se descentró Sus manos ya no toca un libro de sal, \n",
      " valle de eterna sal... \n",
      " hoyo en la leña... \n",
      " \n",
      " Un destello en el aire En la rapsodia típica de Bosnia Donde el mundo tu ser te dolerá al fin A la luna Viejo roble del camino Tus hojas siempre se la llevan detenida Como a una estrella en su luz El cielo en blanco enorme lejísimo Cielo en blanco enorme lejísimo Cielo en blanco enorme lejísimo Cielo en blanco enorme lejísimo Cielo en blanco enorme lejísimo Lejísimo lejísimo Nosotros adentro Nosotros adentro Yo quiero ver Si acaso las nubes vendrán.... Trayendo mensajes...\n"
     ]
    }
   ],
   "source": [
    "print(generate_new_lyrics(chain))"
   ]
  },
  {
   "cell_type": "markdown",
   "metadata": {},
   "source": [
    "-----------------"
   ]
  },
  {
   "cell_type": "markdown",
   "metadata": {},
   "source": [
    "# Dylan!"
   ]
  },
  {
   "cell_type": "code",
   "execution_count": 27,
   "metadata": {},
   "outputs": [
    {
     "data": {
      "text/html": [
       "<div>\n",
       "<style>\n",
       "    .dataframe thead tr:only-child th {\n",
       "        text-align: right;\n",
       "    }\n",
       "\n",
       "    .dataframe thead th {\n",
       "        text-align: left;\n",
       "    }\n",
       "\n",
       "    .dataframe tbody tr th {\n",
       "        vertical-align: top;\n",
       "    }\n",
       "</style>\n",
       "<table border=\"1\" class=\"dataframe\">\n",
       "  <thead>\n",
       "    <tr style=\"text-align: right;\">\n",
       "      <th></th>\n",
       "      <th>0</th>\n",
       "    </tr>\n",
       "  </thead>\n",
       "  <tbody>\n",
       "    <tr>\n",
       "      <th>286</th>\n",
       "      <td>Change my way of thinking, bring myself a dif...</td>\n",
       "    </tr>\n",
       "    <tr>\n",
       "      <th>350</th>\n",
       "      <td>Prayed in the ghetto with my face in the ceme...</td>\n",
       "    </tr>\n",
       "    <tr>\n",
       "      <th>234</th>\n",
       "      <td>I married Isis on the fifth day of May, But I...</td>\n",
       "    </tr>\n",
       "    <tr>\n",
       "      <th>207</th>\n",
       "      <td>Our conversation was short and sweet, It near...</td>\n",
       "    </tr>\n",
       "    <tr>\n",
       "      <th>310</th>\n",
       "      <td>Standing on the water, casting your bread Whi...</td>\n",
       "    </tr>\n",
       "  </tbody>\n",
       "</table>\n",
       "</div>"
      ],
      "text/plain": [
       "                                                     0\n",
       "286   Change my way of thinking, bring myself a dif...\n",
       "350   Prayed in the ghetto with my face in the ceme...\n",
       "234   I married Isis on the fifth day of May, But I...\n",
       "207   Our conversation was short and sweet, It near...\n",
       "310   Standing on the water, casting your bread Whi..."
      ]
     },
     "execution_count": 27,
     "metadata": {},
     "output_type": "execute_result"
    }
   ],
   "source": [
    "df = pd.read_csv('data/complete_dylan.csv', sep=';', header=None)\n",
    "df.sample(5)"
   ]
  },
  {
   "cell_type": "markdown",
   "metadata": {},
   "source": [
    "## MARKOV"
   ]
  },
  {
   "cell_type": "markdown",
   "metadata": {},
   "source": [
    "__Get list of all lyrics of non instrumental songs__"
   ]
  },
  {
   "cell_type": "code",
   "execution_count": 30,
   "metadata": {},
   "outputs": [],
   "source": [
    "lyrics = df[0].values"
   ]
  },
  {
   "cell_type": "code",
   "execution_count": 32,
   "metadata": {},
   "outputs": [],
   "source": [
    "chain = train_markov_chain(lyrics)"
   ]
  },
  {
   "cell_type": "code",
   "execution_count": 33,
   "metadata": {},
   "outputs": [
    {
     "name": "stdout",
     "output_type": "stream",
     "text": [
      "Someone's You angel, you, you're as f--got me under your wing, The way you walk into the room where my pencil is at.\" She pulls one out now, I shall be a-changed, Ye shall be released. Yonder down here in style. By the man who was born. I saw guns and you can't make pony run, Tombstone bay dog can't get it together, Just gotta pick myself up off the picnic. I got no place I'm going to. Hey, Mr. Tambourine Man, play a song for me, no more, you can't understand. Your sons and your ghostlike soul, Who among them could ever have, Since the beginning of the roses fade And I know no one to know I love you, baby, Dream about you, baby, I know exactly where it a-hurts you, honey, My limbs are shaking, My mind weaves a symphony Of two mules, trains, and rain. I'm bound to get up in the Great North Woods, working as a parting gift. Summer days, summer nights are gone, I know I just wouldn't have a temperature? I see the geek, Who suddenly walks up to her too soon for the one that I had a job in the black-heart wind, Combing his hair back, his future looks thin, He bites the bullet and he shuffles inside, He walks with a grin if you're traveling in the morning will be gone, Soon you will understand That every other day Find it on a wild-goose chase. West of the table over to that cold whistle blow, I'm going back again, It depends on how I'm feeling.\" \"If you, my sky would fall, Rain would gather, too. Without your love into the tailor shop and dressed him in here - ain't it clear That I really wanna do Is, baby, be friends with you. I was warm I rambled to view the fair fields all alone Because everybody must get stoned.\n"
     ]
    }
   ],
   "source": [
    "print(generate_new_lyrics(chain))"
   ]
  },
  {
   "cell_type": "code",
   "execution_count": 34,
   "metadata": {},
   "outputs": [
    {
     "name": "stdout",
     "output_type": "stream",
     "text": [
      "You \"There must be up to me. There's mirrors inside the gates of Eden. The savage soldier sticks his head and turned it into my ear. Madame Butterfly, she lulled me to you, but you're lazy to fetch it, And reflect from the storm.\" In a crowded room full of tacks, Preoccupied with his memories in a political world, Turning and a-thrashing about, As soon as the guitar played, Her mouth was watery and wet, But something is happening and you don't have to yearn for love, you don't talk so loud, Now you can feel the same, Gon' walk on your hand. There's seven breezes blowing all around my skull, I dreamed, Romantic facts of musketeers Foundationed deep somehow. Ah, but I don't care if you hear me, baby, there's smoke in your number, So sleep with one hand waving free, Silhouetted by the light of the deepest, dark forest, Where the pellets of poison are flooding their waters, Where the geese into the bells of the night is disappearing, Oh, this feeling's still here in my misery like some feudal lord, got more lives than a cat. I never been before. I'm going back to him. I went to tell you, baby, Late last night I dream of bells in the dirt in the wind. I walked out to the higher calling of my confession, in the door, You follow, find yourself another best friend and smile, I thought I was laying in bed, Wondering if she'd changed at all, if her hair was still red. Her folks, they said they would, They'll stone you when he hears you speak And says, \"How does it feel, To be stuck inside of the night comes falling from the tears and the weeds of yesteryear, Like criminals they have choked the breath of conscience and good cheer And the shoreline And the sounds before the mirror - Won't you meet me out and say that your corrupt ways had finally made it back to work for Maggie's brother no more. Well, I couldn't see through him, no, not even sure what it is, do you, Mr. Jones? You walk into the clubhouse of his leather cup, But all their daughters put me down to my door. Lordy, Lord! Lordy, Lordy, Lordy, Lordy, Lord! Lordy, Lord! Lordy, Lordy, Lordy, Lord! Lordy, Lord! I went into the cup above a blind man at the mouth, he began to think I could, I can't let go of my lambs to the heart, She still lives inside of Mobile with the Lord Way up in blue.\" I had to ask me to be divorced, I helped you when you're trying to find yourself another best friend now? Yes, you do, you know you can walk on the dark out of bricks. The National Guard stands around smiling, Holding his club like he was just a dream, babe, a vacuum, a scheme, babe, that sucks you into a mouse. All of us had better call up the cops.\" And so Patty calls the cops have chased after and caught 'em And that is yours and mine is surely one, You got a house in New Orleans - my race is almost hidden, the stars were torn down. Brownsville girl with me as I was sleeping in a land where justice is a mighty river - Look around you, you got to leap it: Tonight you got your fly.\" Yes, I know you're gonna need my help someday. Well, if I was thinking 'bout her father, who she very rarely saw, Thinking 'bout Rosemary and thinking about that John B. Stetson hat. Stack-A-Lee turned to Billy Lyons and Stack-A-Lee had one terrible fight. All about that John B. Stetson hat. Stack-A-Lee walked to the Capitol, Idiot wind blowing the snow begins to thaw. They say the darkest hour of my Lord. Pressing on, Pressing on, You know, it ain't me, babe It ain't me you're looking for somebody to blame. \"Remember that murder that you--happened in a bit and away I ran. I don't live or die, people just get bored. I ain't never that big. I never can go to her on Sunday, salute her when her love grows cold, But I ain't gonna cross the water moccasin dies.\" Ruby just smiled and said, \"Forget me not.\" Senor, Senor, I can be an ambassador to England or France, You may call me R.J., you may even own banks, But you're gonna have to serve somebody: Well, it may be the Lord, But you're doing it again, You better duck down the shade And says, \"My advice is to give, Dried the tears up from the persecutor within. Jokerman, dance to the door. You don't understand it, my feeling for you. You used to be that woman. You keep me knocking about from Mexico to Tibet. True love, true love, true love of mine. See for me and frown, They'd like to eat - I'm gonna let it be just like to be kind, So give me more and more and more and then they'll say, \"Good luck.\" Yeah, but I can't get no relief. Businessmen, they drink my wine, plowmen dig my earth, None of them along the line Like a-she a-broke a-this heart of stone. Warning signs are eve-flashing everywhere, but we pay no heed, 'Stead of learning to live, How can the life of such a man named Martin Luther King...\n"
     ]
    }
   ],
   "source": [
    "print(generate_new_lyrics(chain))"
   ]
  },
  {
   "cell_type": "code",
   "execution_count": 35,
   "metadata": {},
   "outputs": [
    {
     "name": "stdout",
     "output_type": "stream",
     "text": [
      "If 'Twas in the bushes, blown out on the borderline, Remember me to look at, so hard to think these thoughts and never more you'll toil, You'll just lay there by the strength of strings no voice can hope to hum. The ocean wild like an oak, I've seen your lover man coming, coming 'cross the barren field, He not a friend of hers with his thumb For his tongue, it was your world. Ah, you fake just like a little girl. It was gravity which pulled us down and destiny which broke us apart, You tamed the lion lies down with the tombstone blues.\n"
     ]
    }
   ],
   "source": [
    "print(generate_new_lyrics(chain))"
   ]
  },
  {
   "cell_type": "code",
   "execution_count": 36,
   "metadata": {},
   "outputs": [
    {
     "name": "stdout",
     "output_type": "stream",
     "text": [
      "Well, Johnny's in the fish's mouth, Must be living in a basement down the road, you ain't got no shoes, Dad's in a blade of grass, Young man looking for someone Who's never weak, but always strong, To protect you and say a prayer for him.\" But, like Louise always says, \"You just don't think twice, it's alright, But, if you ever hear that lonesome whistle blowing. I see the turning of the remnants of her face in the webs that they spin, Only a matter of fact, the wheels have stopped, What's good is bad, what's bad is good, you find out if she's got that I learned in Utah. Ha-va- Hava-na- Havana-gee- Havanagee-luh- Havanageeluh. Odeleyee-hoo-hoo-hoo.\n"
     ]
    }
   ],
   "source": [
    "print(generate_new_lyrics(chain))"
   ]
  },
  {
   "cell_type": "code",
   "execution_count": 37,
   "metadata": {},
   "outputs": [
    {
     "name": "stdout",
     "output_type": "stream",
     "text": [
      "I Senor, Senor, do you belong? Are you ready? Are you ready? Are you ready? Are you willing to engage, Saying, \"We'll tie her hands and pray for rain, Got a long, hard climb. Train wheels running through my palm, the sharp hills are rising from Yellow fields with twisted oaks that groan. Won't you come in was a snare And she in between, the victim of sound, Soon shattered as a king, But, when Quinn the Eskimo gets here, them pigeons'll go to the valley and sing my song. Gonna sing it loud, sing it yourself, uh-huh.\n"
     ]
    }
   ],
   "source": [
    "print(generate_new_lyrics(chain))"
   ]
  },
  {
   "cell_type": "code",
   "execution_count": 38,
   "metadata": {},
   "outputs": [
    {
     "name": "stdout",
     "output_type": "stream",
     "text": [
      "How I wandered again to my knees, Don't need a woman I meet, Putting her in hope not to me, baby, I'll do anything in this telephone wire.\n"
     ]
    }
   ],
   "source": [
    "print(generate_new_lyrics(chain))"
   ]
  },
  {
   "cell_type": "code",
   "execution_count": 39,
   "metadata": {},
   "outputs": [
    {
     "name": "stdout",
     "output_type": "stream",
     "text": [
      "Lay, One by one they follow each other a little hilltop village they gambled for my friends, Where the sad-eyed prophets say that it's naming For the times, they are a-changing. The line, it is washed to the Lord, But you're gonna have to pay to get excited,\" the thief, \"There's too much to argue or to judge. The bridge at midnight trembles. The country doctor rambles. Bankers' nieces seek perfection, Expecting all the women came and went, barefoot servants too. Outside in the air, Go all the while I was through, I filled up my innocence, I got until I start sinking, But I'll see you in the wood, things are falling and the Jew, \"You can't repeat the past.\" I say, \"How sweetly I sleep here alone.\" \"The tempest may howl and the cranes fly away from myself as I am slain? Quick, Magdalena, take my life. Well, the medicine man comes and goes, My money comes and goes, my friend, is blowing in your prime, didn't you? People'd call, say, \"Beware, doll, You're bound to fall.\" You thought they were really at. When they rode with him like a hymn and like a duck, and smell like a bowl of soup, Wiggle, wiggle, wiggle all dressed in black, Police at your door Is standing in front of you and I, we've been through that and this pride? Will I be outnumbered, Oh, though the line - my feet'll be flying - to tell about my Sarah Jane. I got a woman who looked like middleweights, Jumped into a meaningless ring For deep in my soul, from me to your feet always be joyful, may your song always be emotionally yours. It's like I did hear, I didn't mean to you is worth saving, Then you better understand, You're gonna make your dreams come true, May you stay forever young, May you stay forever young. May you always know the truth to you is a game. Now, all the ship's company they were shocked - But you can listen to my soul has turned into steel, I've still got a lotta women, but she breaks just like a stranger to teach peace to come. Going back to Pittsburgh, count up to that burying ground! Sure seems lonesome, Lord, when the fast bullets fly. Like Judas of old, in the bushes and blown out on the run, and but for the doctor's cure, Looking at my shadow, I been in jail with a swagger and he knew I wouldn't do. Well, if you hear A foreign sound in your arms, You should not treat me unkind, You coulda done better, but I was standing there in the well and the clowns when they all came crashing down, I became withdrawn, The only thing I knew how to say.\" He said, \"Pick up your head as you try and fail? How many times can a freight train, So I drifted down to die, Then they bring them to interrupt me drinking from my detective bag, I discovered red stripes in the mood for you. Woo! I said, I was hungry and it was that some other man, But that's just the same, we just better call up the book and papa asked her for too long to see you in the air, Then he fine you a diamond flush, Willie didn't even have anything for you. If not for answers where no answers can be won, you want to. He look straight into the easy chair! Ooh-ee, ride me high, tomorrow's the day at night is another thing. She's looking into my face in the rat-race choir, Bent out of the Jordan, east of the road, rain falling on his toe - Oh me, oh my, love that woman, I swear they're burning.\" Oh, the benches were stained with tears and the clowns when they will not carry a gun: \"I'm around too many people have died? The answer, my friend, Heart-fixer, mind-regulator, true to the countess who's pretending to care for him, Saying, \"Name me someone that's not a house,\" says Judas Priest. \"It's not a parasite and I'll go see her go, But there was a one-way track. If I didn't see you tomorrow.\" Handy-dandy, handy-dandy, just like them. They say every man must fall, Yet I just got to be looking my way. I asked you, please, to cross paths in a play And through the fence at me as I been shooting in the tide on me and nothing more. But it ain't me, babe, It ain't no match for the rising star, I guess I should have left this town this morning, ain't got no place I'm going to. Hey, Mr. Tambourine Man, play a song for me, I'm branded on my shoes, they come from Singapore, My flashlight's from Taiwan, My tablecloth's from Malaysia, My belt buckle's from the shadows of the innocent, Felt around for the blind and crippled, did they know? When they didn't wanna be like me. All I really wanna do, All I really did try to turn it some more. One by one they follow the sun, How'm I supposed to get ill. Then they bring them clothes!\" Woo-hoo! Well, I don't know by now, It ain't me you're looking for, babe.\n"
     ]
    }
   ],
   "source": [
    "print(generate_new_lyrics(chain))"
   ]
  },
  {
   "cell_type": "code",
   "execution_count": 40,
   "metadata": {},
   "outputs": [
    {
     "name": "stdout",
     "output_type": "stream",
     "text": [
      "Go Oh, the flowers on your shoulder, stripes on your door? Can't you feel that sun a-shining? Groundhog running by the way she make me lonesome when you discover what you did, Don't walk on your midnight rug And your father, to your heart, Come, baby, teach me, come, baby, take me, I can't quite put my guns in the rain and the language that he was eating Wonder Bread, He ate Burger Kings, he was very bored Trying to kill him given out to find, But, if he touches you at last - oh, God! - I'm hungry as a loon/ He throws us all in a political world, Love don't have to find yourself another best friend somehow. Well, the wind, The answer is blowing in the well, the captain, he is wise, He's got a letter to me - oh, well! The hysterical bride in the pot, they're beginning to sing, What look large from a hole for me And I wait for this sweet paradise, Just remind me of my chair, said to me, go ahead and tries so hard to tell, But I'm saved, Yes, I've been told The streets of Rome are filled with lost sheep. Ring them bells, St. Peter, where the pasture begins, Where charity is supposed to get juiced in it, Nobody's ever taught you how it is worth.\" \"No reason to get back home.\n"
     ]
    }
   ],
   "source": [
    "print(generate_new_lyrics(chain))"
   ]
  },
  {
   "cell_type": "code",
   "execution_count": 41,
   "metadata": {},
   "outputs": [
    {
     "name": "stdout",
     "output_type": "stream",
     "text": [
      "Come, Look out your window ledge. How long's it gonna take away my highway shoes. Well, I'm trying to get done. As the dying gunfighter lay on the avenue, Tangled up in the back. Seems like a little chicken a-down on his mind To leave his native country and his friends rearrange Their religion of the streets, child of clay, Joey, Joey, King of the night, they made a vow not to worry because, yes, they're just my foolish pride, But I can't help falling in my hand and said goodbye, ran out to the rain and the shot from a different point of view, To anyone passing by, There was no more letters, no! Not unless you mail them from Desolation Row.\n"
     ]
    }
   ],
   "source": [
    "print(generate_new_lyrics(chain))"
   ]
  },
  {
   "cell_type": "code",
   "execution_count": null,
   "metadata": {},
   "outputs": [],
   "source": []
  }
 ],
 "metadata": {
  "kernelspec": {
   "display_name": "Python 3",
   "language": "python",
   "name": "python3"
  },
  "language_info": {
   "codemirror_mode": {
    "name": "ipython",
    "version": 3
   },
   "file_extension": ".py",
   "mimetype": "text/x-python",
   "name": "python",
   "nbconvert_exporter": "python",
   "pygments_lexer": "ipython3",
   "version": "3.6.7"
  }
 },
 "nbformat": 4,
 "nbformat_minor": 2
}
